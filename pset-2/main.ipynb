{
 "cells": [
  {
   "cell_type": "code",
   "execution_count": 1,
   "metadata": {},
   "outputs": [],
   "source": [
    "%load_ext autoreload\n",
    "%autoreload 2"
   ]
  },
  {
   "cell_type": "code",
   "execution_count": 2,
   "metadata": {},
   "outputs": [],
   "source": [
    "import numpy as np\n",
    "import pandas as pd\n",
    "import sklearn.decomposition\n",
    "import matplotlib.pyplot as plt"
   ]
  },
  {
   "cell_type": "markdown",
   "metadata": {},
   "source": [
    "## Problem 1"
   ]
  },
  {
   "cell_type": "code",
   "execution_count": 3,
   "metadata": {},
   "outputs": [],
   "source": [
    "def cos_sim(x, y):\n",
    "    return np.dot(x, y) / np.linalg.norm(x) / np.linalg.norm(y)"
   ]
  },
  {
   "cell_type": "markdown",
   "metadata": {},
   "source": [
    "### 1.1"
   ]
  },
  {
   "cell_type": "code",
   "execution_count": 4,
   "metadata": {},
   "outputs": [],
   "source": [
    "from sanger import SangerNet"
   ]
  },
  {
   "cell_type": "code",
   "execution_count": 5,
   "metadata": {},
   "outputs": [],
   "source": [
    "# Load data\n",
    "iris_df = pd.read_csv(\"Iris.txt\")\n",
    "iris_np = iris_df.to_numpy()[:, :4].T.astype(np.float32)\n",
    "iris_np_no_std = iris_np.copy()\n",
    "\n",
    "# Standardize\n",
    "iris_np -= iris_np.mean(axis=1)[:, None]\n",
    "iris_np /= iris_np.std(axis=1)[:, None]"
   ]
  },
  {
   "cell_type": "code",
   "execution_count": 6,
   "metadata": {
    "scrolled": false
   },
   "outputs": [
    {
     "name": "stdout",
     "output_type": "stream",
     "text": [
      "Iteration 0: delta norm 0.4616790433054635\n",
      "Iteration 1000: delta norm 0.002542984244879118\n",
      "Iteration 2000: delta norm 6.389874814718116e-05\n",
      "Iteration 3000: delta norm 1.605097754291998e-06\n",
      "Iteration 4000: delta norm 4.031906941647434e-08\n",
      "Iteration 5000: delta norm 1.0127902312175627e-09\n",
      "Iteration 6000: delta norm 2.544072270234384e-11\n",
      "Iteration 7000: delta norm 6.390751999078114e-13\n",
      "Iteration 8000: delta norm 1.615380605137105e-14\n",
      "Iteration 9000: delta norm 2.296284778550108e-15\n"
     ]
    },
    {
     "data": {
      "text/plain": [
       "array([[ 1.        , -0.24301772,  0.26275768, -0.26190718],\n",
       "       [-0.24301772,  1.        , -0.93103617,  0.8380725 ],\n",
       "       [ 0.26275768, -0.93103617,  1.        , -0.9772206 ],\n",
       "       [-0.26190718,  0.8380725 , -0.9772206 ,  1.        ]])"
      ]
     },
     "execution_count": 6,
     "metadata": {},
     "output_type": "execute_result"
    }
   ],
   "source": [
    "snet = SangerNet()\n",
    "snet.learn(iris_np)\n",
    "\n",
    "# Sanity check: PCs should be orthogonal\n",
    "snet.w_norm @ snet.w_norm.T"
   ]
  },
  {
   "cell_type": "markdown",
   "metadata": {},
   "source": [
    "### 1.2\n",
    "\n",
    "Different"
   ]
  },
  {
   "cell_type": "markdown",
   "metadata": {},
   "source": [
    "### 1.3"
   ]
  },
  {
   "cell_type": "code",
   "execution_count": 7,
   "metadata": {
    "scrolled": true
   },
   "outputs": [
    {
     "data": {
      "text/plain": [
       "Text(0, 0.5, 'Variance explained')"
      ]
     },
     "execution_count": 7,
     "metadata": {},
     "output_type": "execute_result"
    },
    {
     "data": {
      "image/png": "[encoded data removed]",
      "text/plain": [
       "<Figure size 432x288 with 1 Axes>"
      ]
     },
     "metadata": {
      "needs_background": "light"
     },
     "output_type": "display_data"
    }
   ],
   "source": [
    "# plot variances v.s. principal component\n",
    "plt.bar([i for i in range(4)], np.linalg.norm(snet.w, axis=1))\n",
    "plt.title(\"Variance explained by each principal component\")\n",
    "plt.xlabel(\"Principal component\")\n",
    "plt.ylabel(\"Variance explained\")"
   ]
  },
  {
   "cell_type": "markdown",
   "metadata": {},
   "source": [
    "### 1.4"
   ]
  },
  {
   "cell_type": "code",
   "execution_count": 8,
   "metadata": {
    "scrolled": false
   },
   "outputs": [
    {
     "name": "stdout",
     "output_type": "stream",
     "text": [
      "Iteration 0: delta norm 16.77997506038641\n",
      "Iteration 1000: delta norm 2.2409157113027846e+133\n",
      "Iteration 2000: delta norm inf\n",
      "Iteration 3000: delta norm nan\n",
      "Iteration 4000: delta norm nan\n",
      "Iteration 5000: delta norm nan\n",
      "Iteration 6000: delta norm nan\n"
     ]
    },
    {
     "name": "stderr",
     "output_type": "stream",
     "text": [
      "/Users/kevin/Documents/College/Classes/2022/9.53/pset-2/sanger.py:15: RuntimeWarning: overflow encountered in matmul\n",
      "  delta = (y @ x.T) - np.tril(y @ y.T) @ self.w\n",
      "/Users/kevin/Documents/College/Classes/2022/9.53/pset-2/sanger.py:15: RuntimeWarning: invalid value encountered in matmul\n",
      "  delta = (y @ x.T) - np.tril(y @ y.T) @ self.w\n",
      "/Users/kevin/Documents/College/Classes/2022/9.53/pset-2/sanger.py:19: RuntimeWarning: invalid value encountered in add\n",
      "  self.w += delta\n"
     ]
    },
    {
     "name": "stdout",
     "output_type": "stream",
     "text": [
      "Iteration 7000: delta norm nan\n",
      "Iteration 8000: delta norm nan\n",
      "Iteration 9000: delta norm nan\n"
     ]
    },
    {
     "data": {
      "text/plain": [
       "array([[nan, nan, nan, nan],\n",
       "       [nan, nan, nan, nan],\n",
       "       [nan, nan, nan, nan],\n",
       "       [nan, nan, nan, nan]])"
      ]
     },
     "execution_count": 8,
     "metadata": {},
     "output_type": "execute_result"
    }
   ],
   "source": [
    "# Run Sanger's Rule without standardization\n",
    "snet_no_std = SangerNet()\n",
    "snet_no_std.learn(iris_np_no_std)\n",
    "\n",
    "# Sanity check: PCs should be orthogonal\n",
    "snet_no_std.w_norm @ snet_no_std.w_norm.T"
   ]
  },
  {
   "cell_type": "markdown",
   "metadata": {},
   "source": [
    "### 1.5"
   ]
  },
  {
   "cell_type": "code",
   "execution_count": 9,
   "metadata": {},
   "outputs": [],
   "source": [
    "pca = sklearn.decomposition.PCA(n_components=4)\n",
    "pca.fit(iris_np.T)\n",
    "pc, var = pca.components_, pca.explained_variance_"
   ]
  },
  {
   "cell_type": "code",
   "execution_count": 10,
   "metadata": {},
   "outputs": [
    {
     "data": {
      "text/plain": [
       "[0.3789330409815708,\n",
       " -0.13794790335149712,\n",
       " 0.18696765171959773,\n",
       " -0.06869309160650465]"
      ]
     },
     "execution_count": 10,
     "metadata": {},
     "output_type": "execute_result"
    }
   ],
   "source": [
    "[cos_sim(pc[i], snet.w[i]) for i in range(4)]"
   ]
  },
  {
   "cell_type": "code",
   "execution_count": 11,
   "metadata": {},
   "outputs": [
    {
     "data": {
      "text/plain": [
       "array([2.9321945 , 0.92489046, 0.14885071, 0.02109133], dtype=float32)"
      ]
     },
     "execution_count": 11,
     "metadata": {},
     "output_type": "execute_result"
    }
   ],
   "source": [
    "var"
   ]
  },
  {
   "cell_type": "markdown",
   "metadata": {},
   "source": [
    "### 1.6"
   ]
  },
  {
   "cell_type": "code",
   "execution_count": 12,
   "metadata": {},
   "outputs": [],
   "source": [
    "# render the data using 2 PC's"
   ]
  },
  {
   "cell_type": "markdown",
   "metadata": {},
   "source": [
    "## Problem 2"
   ]
  },
  {
   "cell_type": "markdown",
   "metadata": {},
   "source": [
    "### 2.1"
   ]
  },
  {
   "cell_type": "code",
   "execution_count": null,
   "metadata": {},
   "outputs": [],
   "source": []
  }
 ],
 "metadata": {
  "kernelspec": {
   "display_name": "Python 3",
   "language": "python",
   "name": "python3"
  },
  "language_info": {
   "codemirror_mode": {
    "name": "ipython",
    "version": 3
   },
   "file_extension": ".py",
   "mimetype": "text/x-python",
   "name": "python",
   "nbconvert_exporter": "python",
   "pygments_lexer": "ipython3",
   "version": "3.7.6"
  }
 },
 "nbformat": 4,
 "nbformat_minor": 4
}
